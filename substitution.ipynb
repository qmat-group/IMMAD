{
 "cells": [
  {
   "cell_type": "code",
   "execution_count": 1,
   "metadata": {
    "scrolled": false
   },
   "outputs": [
    {
     "data": {
      "application/vnd.jupyter.widget-view+json": {
       "model_id": "57f76be2d1e240ccb1f99b6c6b589110",
       "version_major": 2,
       "version_minor": 0
      },
      "text/plain": []
     },
     "metadata": {},
     "output_type": "display_data"
    },
    {
     "data": {
      "application/vnd.jupyter.widget-view+json": {
       "model_id": "36b7ae2d10cb491ea10fe73c67e3031c",
       "version_major": 2,
       "version_minor": 0
      },
      "text/plain": [
       "WizardAppWidget(children=(HBox(children=(Button(description='Previous step', disabled=True, icon='step-backwar…"
      ]
     },
     "metadata": {},
     "output_type": "display_data"
    },
    {
     "name": "stdout",
     "output_type": "stream",
     "text": [
      "Calculation: <class 'first_principle.DFTWorkChain'><11789>\n"
     ]
    }
   ],
   "source": [
    "%load_ext autoreload\n",
    "%autoreload 2\n",
    "\n",
    "import substitution as subs\n",
    "import ipywidgets as ipw\n",
    "import aiidalab_widgets_base as awb\n",
    "\n",
    "# Setup all steps of the app. \n",
    "# Setting the `auto_advance` trait to True makes it such that \n",
    "# the next step is automatically selected once the previous step is\n",
    "# in the \"success\" state.\n",
    "setup_structure_step = subs.SetupStructureStep(auto_advance=True)\n",
    "choose_substitution_step = subs.ChooseSubstitutionStep(auto_advance=True)\n",
    "review_and_predict_step = subs.ReviewAndPredictStep(auto_advance=False)\n",
    "validation_step = subs.ValidationStep(auto_advance=True)\n",
    "result_step = subs.ResultStep(auto_advance=False)\n",
    "\n",
    "ipw.dlink(\n",
    "    (setup_structure_step, \"configuration\"),\n",
    "    (review_and_predict_step, \"configuration\"),\n",
    ")\n",
    "ipw.dlink(\n",
    "    (choose_substitution_step, \"elements\"),\n",
    "    (review_and_predict_step, \"elements\")\n",
    ")\n",
    "ipw.dlink(\n",
    "    (review_and_predict_step, \"_predicted_results\"),\n",
    "    (validation_step, \"_predicted_results\")\n",
    ")\n",
    "ipw.dlink(\n",
    "    (validation_step, \"validation_uuids\"),\n",
    "    (result_step, \"result_uuids\")\n",
    ")\n",
    "# Setup the app by adding the various steps in order.\n",
    "app = awb.WizardAppWidget(\n",
    "    steps=[\n",
    "        (\"Setup crystal structure\", setup_structure_step),\n",
    "        (\"Choose elements for substitution\", choose_substitution_step),\n",
    "        (\"Review your choice and predict\", review_and_predict_step),\n",
    "        (\"Run high-throughput calculation to validate your choice\", validation_step),\n",
    "        (\"Show the validation results\", result_step)\n",
    "    ]\n",
    ")\n",
    "\n",
    "# Display the app to the user.\n",
    "display(app)"
   ]
  },
  {
   "cell_type": "code",
   "execution_count": null,
   "metadata": {},
   "outputs": [],
   "source": []
  }
 ],
 "metadata": {
  "kernelspec": {
   "display_name": "aiida",
   "language": "python",
   "name": "aiida"
  },
  "language_info": {
   "codemirror_mode": {
    "name": "ipython",
    "version": 3
   },
   "file_extension": ".py",
   "mimetype": "text/x-python",
   "name": "python",
   "nbconvert_exporter": "python",
   "pygments_lexer": "ipython3",
   "version": "3.10.13"
  },
  "toc-autonumbering": true,
  "vscode": {
   "interpreter": {
    "hash": "c47ea56323eb3877d61cbf35d86712f1ec0169c9498dee7cf06d71a20ed1b482"
   }
  }
 },
 "nbformat": 4,
 "nbformat_minor": 4
}
